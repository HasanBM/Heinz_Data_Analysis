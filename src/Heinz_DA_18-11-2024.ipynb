{
 "cells": [
  {
   "cell_type": "code",
   "execution_count": 17,
   "metadata": {},
   "outputs": [],
   "source": [
    "import numpy as np\n",
    "import pandas as pd\n",
    "import matplotlib.pyplot as plt\n",
    "\n",
    "\n",
    "file_path = '/Users/HM/Desktop/Code/Zeno_Task_11-2024/Heinz_DA_Task_18-11-2024/data/heinz_monitoring-web_articles-11_11_24-14_53.csv'\n",
    "df = pd.read_csv(file_path)\n"
   ]
  },
  {
   "cell_type": "code",
   "execution_count": 18,
   "metadata": {},
   "outputs": [],
   "source": [
    "def load_data(file_path):\n",
    "\n",
    "    df = pd.read_csv(file_path)\n",
    "\n",
    "    df = df.sort_values(by='Published').reset_index(drop=True)\n",
    "\n",
    "    return df.shape, df.head(5), df.info()\n",
    "\n"
   ]
  },
  {
   "cell_type": "code",
   "execution_count": 19,
   "metadata": {},
   "outputs": [
    {
     "name": "stdout",
     "output_type": "stream",
     "text": [
      "<class 'pandas.core.frame.DataFrame'>\n",
      "RangeIndex: 697 entries, 0 to 696\n",
      "Data columns (total 20 columns):\n",
      " #   Column                    Non-Null Count  Dtype \n",
      "---  ------                    --------------  ----- \n",
      " 0   Published                 697 non-null    object\n",
      " 1   Headline                  697 non-null    object\n",
      " 2   Headline Word Count       697 non-null    int64 \n",
      " 3   Summary                   697 non-null    object\n",
      " 4   Link                      697 non-null    object\n",
      " 5   Domain                    697 non-null    object\n",
      " 6   Authors                   396 non-null    object\n",
      " 7   Country                   545 non-null    object\n",
      " 8   Image Link                697 non-null    object\n",
      " 9   Total Interactions        697 non-null    int64 \n",
      " 10  Total Predicted Score     697 non-null    object\n",
      " 11  Facebook Predicted Score  697 non-null    object\n",
      " 12  X Predicted Score         697 non-null    object\n",
      " 13  Facebook Overperforming   697 non-null    object\n",
      " 14  X Overperforming          697 non-null    object\n",
      " 15  Highest Velocity          697 non-null    int64 \n",
      " 16  Keywords                  473 non-null    object\n",
      " 17  Facebook Interactions     697 non-null    int64 \n",
      " 18  X Influencer Shares       697 non-null    int64 \n",
      " 19  Pinterest                 697 non-null    int64 \n",
      "dtypes: int64(6), object(14)\n",
      "memory usage: 109.0+ KB\n",
      "((697, 20),              Published                                           Headline  \\\n",
      "0  2024-01-03T18:59:22  Conquest Email Marketing: Measuring Success in...   \n",
      "1  2024-01-09T05:07:27  Germany's World Cup-winning captain and coach ...   \n",
      "2  2024-01-09T22:36:00  Conquest Email Marketing: Measuring Success - ...   \n",
      "3  2024-01-10T14:18:55  Bayern Múnich rendirá homenaje a Franz Beckenb...   \n",
      "4  2024-01-11T17:49:26  A Complete Timeline of Bill Belichick’s Patrio...   \n",
      "\n",
      "   Headline Word Count                                            Summary  \\\n",
      "0                   14  In the competitive landscape of the Home Servi...   \n",
      "1                   10  Germany's Franz Beckenbauer, one of soccer's g...   \n",
      "2                   12  Alcohol, Spirits, CBD, and Cannabis industries...   \n",
      "3                   14  El FC Bayern rendirá un homenaje a Franz Becke...   \n",
      "4                    8  Bill Belichick and the New England Patriots ar...   \n",
      "\n",
      "                                                Link  \\\n",
      "0  https://diamondmediasolutions.com/all-articles...   \n",
      "1  https://www.heraldlive.co.za/sport/soccer/2024...   \n",
      "2  https://diamondmediasolutions.com/all-articles...   \n",
      "3             http://lado.mx/noticia.php?id=15001281   \n",
      "4  https://article.wn.com/view/2024/01/11/A_Compl...   \n",
      "\n",
      "                      Domain             Authors       Country  \\\n",
      "0  diamondmediasolutions.com  Courtney McGilvary           NaN   \n",
      "1           heraldlive.co.za           Reuters -  South Africa   \n",
      "2  diamondmediasolutions.com  Courtney McGilvary           NaN   \n",
      "3                    lado.mx                 NaN        Mexico   \n",
      "4             article.wn.com                 NaN           NaN   \n",
      "\n",
      "                                          Image Link  Total Interactions  \\\n",
      "0  https://img.newswhip.com/safeImage?url=https%3...                   3   \n",
      "1  https://img.newswhip.com/safeImage?url=https%3...                   0   \n",
      "2  https://img.newswhip.com/safeImage?url=https%3...                   3   \n",
      "3  https://img.newswhip.com/safeImage?url=https%3...                   0   \n",
      "4  https://img.newswhip.com/safeImage?url=https%3...                   0   \n",
      "\n",
      "    Total Predicted Score Facebook Predicted Score       X Predicted Score  \\\n",
      "0  Prediction unavailable   Prediction unavailable  Prediction unavailable   \n",
      "1  Prediction unavailable   Prediction unavailable  Prediction unavailable   \n",
      "2  Prediction unavailable   Prediction unavailable  Prediction unavailable   \n",
      "3  Prediction unavailable   Prediction unavailable  Prediction unavailable   \n",
      "4  Prediction unavailable   Prediction unavailable  Prediction unavailable   \n",
      "\n",
      "  Facebook Overperforming X Overperforming  Highest Velocity  \\\n",
      "0                      0x               0x                 6   \n",
      "1                  -0.17x               0x                 0   \n",
      "2                      0x               0x                 0   \n",
      "3                   -1.9x               0x                 0   \n",
      "4                      0x               0x                 0   \n",
      "\n",
      "                                            Keywords  Facebook Interactions  \\\n",
      "0  direct mail, \\r\\ndisplay advertising, \\r\\ngrap...                      3   \n",
      "1  franz beckenbauer,west germany,world cup,olaf ...                      0   \n",
      "2  direct mail, \\r\\ndisplay advertising, \\r\\ngrap...                      3   \n",
      "3  Ejército Mexicano, noticias Ejército Mexicano,...                      0   \n",
      "4  patriots first yards brady season england supe...                      0   \n",
      "\n",
      "   X Influencer Shares  Pinterest  \n",
      "0                    0          0  \n",
      "1                    0          0  \n",
      "2                    0          0  \n",
      "3                    0          0  \n",
      "4                    0          0  , None)\n"
     ]
    }
   ],
   "source": [
    "print(load_data(file_path))"
   ]
  },
  {
   "cell_type": "markdown",
   "metadata": {},
   "source": [
    "First, we need to clean the data in the .csv file. To do so, we need to check for missing values, as well as ensure the values are in the correct formats (date and time, string, and integer/numerical values)"
   ]
  },
  {
   "cell_type": "code",
   "execution_count": null,
   "metadata": {},
   "outputs": [
    {
     "name": "stdout",
     "output_type": "stream",
     "text": [
      "['Published', 'Headline', 'Headline Word Count', 'Summary', 'Link', 'Domain', 'Authors', 'Country', 'Image Link', 'Total Interactions', 'Total Predicted Score', 'Facebook Predicted Score', 'X Predicted Score', 'Facebook Overperforming', 'X Overperforming', 'Highest Velocity', 'Keywords', 'Facebook Interactions', 'X Influencer Shares', 'Pinterest']\n"
     ]
    }
   ],
   "source": [
    "column_names = df.columns.tolist()\n"
   ]
  },
  {
   "cell_type": "code",
   "execution_count": 24,
   "metadata": {},
   "outputs": [
    {
     "name": "stdout",
     "output_type": "stream",
     "text": [
      "No empty or missing values found in Published column\n",
      "No empty or missing values found in Headline column\n",
      "No empty or missing values found in Headline Word Count column\n",
      "No empty or missing values found in Summary column\n",
      "No empty or missing values found in Link column\n",
      "No empty or missing values found in Domain column\n",
      "Column Authors has 301 missing or empty values\n",
      "Column Country has 152 missing or empty values\n",
      "No empty or missing values found in Image Link column\n",
      "No empty or missing values found in Total Interactions column\n",
      "No empty or missing values found in Total Predicted Score column\n",
      "No empty or missing values found in Facebook Predicted Score column\n",
      "No empty or missing values found in X Predicted Score column\n",
      "No empty or missing values found in Facebook Overperforming column\n",
      "No empty or missing values found in X Overperforming column\n",
      "No empty or missing values found in Highest Velocity column\n",
      "Column Keywords has 224 missing or empty values\n",
      "No empty or missing values found in Facebook Interactions column\n",
      "No empty or missing values found in X Influencer Shares column\n",
      "No empty or missing values found in Pinterest column\n",
      "{'Published': 0, 'Headline': 0, 'Headline Word Count': 0, 'Summary': 0, 'Link': 0, 'Domain': 0, 'Authors': 301, 'Country': 152, 'Image Link': 0, 'Total Interactions': 0, 'Total Predicted Score': 0, 'Facebook Predicted Score': 0, 'X Predicted Score': 0, 'Facebook Overperforming': 0, 'X Overperforming': 0, 'Highest Velocity': 0, 'Keywords': 224, 'Facebook Interactions': 0, 'X Influencer Shares': 0, 'Pinterest': 0}\n"
     ]
    }
   ],
   "source": [
    "def empty_values(file_path):\n",
    "\n",
    "    empty_values_count = {}\n",
    "    for column in column_names:\n",
    "\n",
    "        if df[column].dtype == 'object':\n",
    "            empty_values = df[df[column].isnull() | (df[column].str.strip() == \"\")]\n",
    "        else:\n",
    "            empty_values = df[df[column].isnull()]\n",
    "\n",
    "        empty_values_count[column] = len(empty_values)\n",
    "\n",
    "        if len(empty_values) > 0:\n",
    "            print(f\"Column {column} has {len(empty_values)} missing or empty values\")\n",
    "        else:\n",
    "            print(f\"No empty or missing values found in {column} column\")\n",
    "            \n",
    "    return empty_values_count\n",
    "\n",
    "print(empty_values(file_path))"
   ]
  }
 ],
 "metadata": {
  "kernelspec": {
   "display_name": "Python 3",
   "language": "python",
   "name": "python3"
  },
  "language_info": {
   "codemirror_mode": {
    "name": "ipython",
    "version": 3
   },
   "file_extension": ".py",
   "mimetype": "text/x-python",
   "name": "python",
   "nbconvert_exporter": "python",
   "pygments_lexer": "ipython3",
   "version": "3.11.1"
  }
 },
 "nbformat": 4,
 "nbformat_minor": 2
}
